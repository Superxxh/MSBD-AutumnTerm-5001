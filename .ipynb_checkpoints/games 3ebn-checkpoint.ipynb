{
 "cells": [
  {
   "cell_type": "code",
   "execution_count": 1,
   "metadata": {},
   "outputs": [
    {
     "name": "stdout",
     "output_type": "stream",
     "text": [
      "<class 'pandas.core.frame.DataFrame'>\n",
      "RangeIndex: 357 entries, 0 to 356\n",
      "Data columns (total 11 columns):\n",
      "id                        357 non-null int64\n",
      "playtime_forever          357 non-null float64\n",
      "is_free                   357 non-null bool\n",
      "price                     357 non-null float64\n",
      "genres                    357 non-null object\n",
      "categories                357 non-null object\n",
      "tags                      357 non-null object\n",
      "purchase_date             355 non-null object\n",
      "release_date              357 non-null object\n",
      "total_positive_reviews    355 non-null float64\n",
      "total_negative_reviews    355 non-null float64\n",
      "dtypes: bool(1), float64(4), int64(1), object(5)\n",
      "memory usage: 28.3+ KB\n"
     ]
    }
   ],
   "source": [
    "%matplotlib inline\n",
    "import numpy as np\n",
    "import pandas as pd\n",
    "import matplotlib.pyplot as plt\n",
    "import seaborn as sns\n",
    "import warnings as wn\n",
    "from sklearn.ensemble import RandomForestRegressor\n",
    "from sklearn import preprocessing\n",
    "wn.filterwarnings('ignore')\n",
    "\n",
    "# read the data\n",
    "train = pd.read_csv(r'train.csv')\n",
    "train.info()"
   ]
  },
  {
   "cell_type": "code",
   "execution_count": 2,
   "metadata": {},
   "outputs": [
    {
     "name": "stdout",
     "output_type": "stream",
     "text": [
      "['Adventure', 'Casual', 'Indie', 'RPG', 'Action', 'Strategy', 'Simulation', 'Racing', 'Sports', 'Massively Multiplayer', 'Sexual Content', 'Violent', 'Free to Play', 'Early Access', 'Audio Production', 'Gore', 'Design & Illustration', 'Nudity', 'Animation & Modeling', 'Utilities']\n",
      "20\n"
     ]
    }
   ],
   "source": [
    "genres_map = {}\n",
    "genres_list = []\n",
    "for row in train['genres']:\n",
    "    arr = row.split(',')\n",
    "    for i in arr:\n",
    "        if i not in genres_map:\n",
    "            genres_map[i] = 1\n",
    "            genres_list.append(i)\n",
    "        else:\n",
    "            genres_map[i] += 1\n",
    "\n",
    "genres_map = sorted(genres_map.items(), key = lambda x: x[1], reverse = True)\n",
    "print(genres_list)\n",
    "# genres_map\n",
    "print(len(genres_list))\n",
    "for item in genres_list:\n",
    "    train[item] = train['genres'].apply(lambda x: 1 if item in x else 0)\n",
    "# train.info()"
   ]
  },
  {
   "cell_type": "code",
   "execution_count": 3,
   "metadata": {},
   "outputs": [
    {
     "data": {
      "text/plain": [
       "0    350\n",
       "1      7\n",
       "Name: adult_con, dtype: int64"
      ]
     },
     "execution_count": 3,
     "metadata": {},
     "output_type": "execute_result"
    }
   ],
   "source": [
    "# 是否有色情，暴力，血腥等成人元素\n",
    "def is_adult(x):\n",
    "    if 'Nudity' in x \\\n",
    "    or 'Sexual Content' in x \\\n",
    "    or 'Gore' in x\\\n",
    "    or 'Violent' in x:\n",
    "        return 1\n",
    "    else:\n",
    "        return 0\n",
    "    \n",
    "train['adult_con'] = train['genres'].apply(is_adult)\n",
    "train['adult_con'].value_counts()"
   ]
  },
  {
   "cell_type": "code",
   "execution_count": 4,
   "metadata": {},
   "outputs": [],
   "source": [
    "import math\n",
    "def price_clean(x):\n",
    "    if x == 0:\n",
    "        return 0\n",
    "    else:\n",
    "        return math.log(x)\n",
    "\n",
    "train['price'] = train['price'].apply(price_clean)\n",
    "# print(train['price'])\n",
    "# print(np.max(train['price']))"
   ]
  },
  {
   "cell_type": "code",
   "execution_count": 5,
   "metadata": {},
   "outputs": [
    {
     "name": "stdout",
     "output_type": "stream",
     "text": [
      "['Single-player', 'Steam Trading Cards', 'Steam Cloud', 'Partial Controller Support', 'Full controller support', 'Multi-player', 'Steam Achievements', 'Steam Workshop', 'Co-op', 'Steam Leaderboards', 'Online Co-op', 'Local Co-op', 'Shared/Split Screen', 'Stats', 'Online Multi-Player', 'Cross-Platform Multiplayer', 'SteamVR Collectibles', 'Local Multi-Player', 'Remote Play on Phone', 'Remote Play on Tablet', 'Remote Play on TV', 'Valve Anti-Cheat enabled', 'Commentary available', 'Captions available', 'Includes level editor', 'In-App Purchases', 'VR Support', 'MMO', 'Includes Source SDK']\n"
     ]
    }
   ],
   "source": [
    "categories_map = {}\n",
    "categories_list = []\n",
    "for row in train['categories']:\n",
    "    arr = row.split(',')\n",
    "    for i in arr:\n",
    "        if i not in categories_map:\n",
    "            categories_map[i] = 1\n",
    "            categories_list.append(i)\n",
    "        else:\n",
    "            categories_map[i] += 1\n",
    "\n",
    "categories_map = sorted(categories_map.items(), key = lambda x: x[1], reverse = True)\n",
    "print(categories_list)\n",
    "# genres_map\n",
    "# print(len(categories_list))\n",
    "for item in categories_list:\n",
    "    train[item] = train['categories'].apply(lambda x: 1 if item in x else 0)\n",
    "    \n",
    "# train.info()"
   ]
  },
  {
   "cell_type": "code",
   "execution_count": 6,
   "metadata": {},
   "outputs": [
    {
     "name": "stdout",
     "output_type": "stream",
     "text": [
      "['Indie', 'Adventure', 'Story Rich', 'Casual', 'Atmospheric', 'Exploration', 'First-Person', 'Stealth', 'Choices Matter', 'Singleplayer', 'Walking Simulator', 'Short', 'Drama', 'Mod', 'Utilities', 'RPG', 'Game Development', 'Free to Play', 'Point & Click', 'Comedy', 'Funny', 'Kickstarter', 'Great Soundtrack', 'Puzzle', 'Female Protagonist', '2D', 'Masterpiece', 'Classic', 'Retro', 'Cult Classic', 'Crowdfunded', 'Episodic', 'Sci-fi', 'Medieval', 'Open World', 'Strategy', 'Sandbox', 'Action', 'Multiplayer', 'Moddable', 'Military', 'Horses', 'Realistic', 'Historical', 'Third Person', 'Simulation', 'Hack and Slash', 'Fantasy', 'Tower Defense', 'Co-op', 'Online Co-Op', 'Third-Person Shooter', 'Cartoony', 'Shooter', 'Controller', 'Survival', 'Local Co-Op', 'Split Screen', 'Souls-like', 'Violent', 'Difficult', 'Resource Management', 'Top-Down', '1980s', 'Fast-Paced', 'Pixel Graphics', 'Gore', 'Psychedelic', 'Surreal', 'Addictive', 'Music', 'Top-Down Shooter', 'VR', 'Turn-Based', 'Anime', 'JRPG', 'Epic', 'Turn-Based Combat', 'Parody', 'Cats', 'Cute', 'FPS', 'Post-apocalyptic', 'Action RPG', 'Action-Adventure', \"Beat 'em up\", 'Metroidvania', 'Spectacle fighter', '3D Platformer', 'Character Action Game', 'Platformer', 'Old School', 'CRPG', 'Rogue-like', 'Dungeon Crawler', 'Rogue-lite', 'Replay Value', 'Side Scroller', 'Loot', 'Local Multiplayer', 'Family Friendly', '4 Player Local', 'Co-op Campaign', 'Colorful', 'Memes', 'Space', 'Massively Multiplayer', 'Character Customization', 'Isometric', 'Steampunk', 'Cartoon', 'Physics', 'Science', 'Space Sim', 'Building', 'Education', 'Grand Strategy', '4X', 'Real-Time with Pause', 'RTS', 'Racing', 'Offroad', 'Motocross', 'Sports', 'Motorbike', 'ATV', 'Bikes', 'Arcade', 'Turn-Based Strategy', 'Hex Grid', 'Tactical', 'Psychological', 'Mythology', 'Dark', 'Horror', 'Dark Fantasy', 'Blood', 'War', 'Cinematic', 'Romance', 'Card Game', 'Choose Your Own Adventure', 'Dark Humor', 'Touch-Friendly', 'Noir', 'Remake', \"1990's\", 'Hand-drawn', 'Bullet Hell', \"Shoot 'Em Up\", 'Party-Based RPG', 'Dungeons & Dragons', 'Tactical RPG', 'Philisophical', 'Early Access', 'Procedural Generation', 'Tennis', 'Programming', 'Investigation', 'Underground', 'Dynamic Narration', 'Transhumanism', 'Intentionally Awkward Controls', 'Multiple Endings', 'Nudity', 'Sexual Content', 'Dystopian', 'Mature', 'Emotional', 'Political', 'Based On A Novel', 'Crafting', 'PvP', 'Management', 'Economy', 'Trains', 'City Builder', 'Transportation', 'Driving', 'Flight', 'Relaxing', 'Survival Horror', 'Lovecraftian', 'Inventory Management', 'Psychological Horror', 'Level Editor', 'Detective', 'Visual Novel', 'Mystery', 'Dark Comedy', 'Dating Sim', 'Puzzle-Platformer', 'Swordplay', 'Crime', 'Thriller', 'Supernatural', 'Narration', 'World War II', 'Hidden Object', 'Illuminati', 'Hacking', 'Parkour', 'Lara Croft', 'Underwater', '3D Vision', 'Experimental', 'Board Game', 'eSports', 'Score Attack', 'Competitive', 'Magic', 'Team-Based', 'Hunting', 'Stylized', 'Interactive Fiction', 'Quick-Time Events', 'Beautiful', 'Futuristic', 'Cyberpunk', 'Dragons', 'Base Building', 'Alternate History', 'Real-Time', 'FMV', 'Trading Card Game', 'Aliens', 'Zombies', 'Twin Stick Shooter', 'Turn-Based Tactics', 'Chess', 'Automation', 'Battle Royale', 'Fighting', 'Western', 'Ninja', '2.5D', 'Satire', 'Wargame', 'America', 'Real Time Tactics', 'Time Travel', 'Politics', 'Capitalism', 'Sequel', 'Mouse only', 'Minimalist', 'Logic', '3D', 'Heist', 'Unforgiving', 'Perma Death', 'LGBTQ+', 'Nonlinear', 'Animation & Modeling', 'Warhammer 40K', 'Games Workshop', 'Gothic', 'Naval', 'Audio Production', 'World War I', 'Destruction', 'Mars', 'Pirates', 'Design & Illustration', 'Linear', 'Strategy RPG', 'Soundtrack', 'Mechs', 'Tanks', 'Trading', 'Time Manipulation', 'Bullet Time', 'MMORPG', 'God Game', 'Nature', 'Diplomacy', 'Documentary', 'Submarine', 'Movie', 'Robots', 'Text-Based', 'Voxel', 'Sniper', 'Dinosaurs', 'Clicker', 'Minigames', 'Villain Protagonist', 'Comic Book', 'Immersive Sim', 'Assassin', 'Benchmark', 'PvE', 'Gun Customization', 'Snowboarding', 'Rome', 'Demons', 'Software', 'Martial Arts', 'Rhythm', 'Sailing', 'Artificial Intelligence', 'Arena Shooter', 'Experience', 'MOBA', 'RPGMaker', 'Typing', 'Conspiracy', 'Star Wars', 'Music-Based Procedural Generation', 'Silent Protagonist', 'Batman', 'Superhero']\n"
     ]
    }
   ],
   "source": [
    "tags_map = {}\n",
    "tags_list = []\n",
    "for row in train['tags']:\n",
    "    arr = row.split(',')\n",
    "    for i in arr:\n",
    "        if i not in tags_map:\n",
    "            tags_map[i] = 1\n",
    "            tags_list.append(i)\n",
    "        else:\n",
    "            tags_map[i] += 1\n",
    "\n",
    "tags_map = sorted(tags_map.items(), key = lambda x: x[1], reverse = True)\n",
    "# print(genres_list)\n",
    "# genres_map\n",
    "print(tags_list)\n",
    "for item in tags_list:\n",
    "    if item not in train:\n",
    "        train[item] = train['tags'].apply(lambda x: 1 if item in x else 0)\n",
    "    else:\n",
    "        for index, row in train.iterrows():\n",
    "            if row[item] != 1:\n",
    "                if item in row['tags']:\n",
    "                    row[item] = 1\n",
    "                else:\n",
    "                    row[item] = 0\n",
    "            else:\n",
    "                row[item] = 1\n",
    "    \n",
    "# train.info()"
   ]
  },
  {
   "cell_type": "code",
   "execution_count": 7,
   "metadata": {},
   "outputs": [],
   "source": [
    "train['is_free'] = train['is_free'].apply(lambda x: 1 if x == True else 0)\n",
    "one_hot_col = categories_list + tags_list + genres_list"
   ]
  },
  {
   "cell_type": "code",
   "execution_count": 8,
   "metadata": {},
   "outputs": [
    {
     "name": "stdout",
     "output_type": "stream",
     "text": [
      "23309.79292929293\n",
      "5314.247474747474\n",
      "5258.377358490566\n",
      "859.6352201257862\n"
     ]
    }
   ],
   "source": [
    "def clean_pos(x):\n",
    "    if x != x:\n",
    "        return 0\n",
    "    else:\n",
    "        return x\n",
    "\n",
    "def clean_neg(x):\n",
    "    if x != x or x == 0:\n",
    "        return 1\n",
    "    else:\n",
    "        return x\n",
    "    \n",
    "train['total_positive_reviews'] = train['total_positive_reviews'].apply(clean_pos)\n",
    "train['total_negative_reviews'] = train['total_negative_reviews'].apply(clean_neg)\n",
    "train['reviews_level'] = train['total_positive_reviews']/train['total_negative_reviews']\n",
    "print(train[train['playtime_forever'] > 0]['total_positive_reviews'].mean())\n",
    "print(train[train['playtime_forever'] > 0]['total_negative_reviews'].mean())\n",
    "print(train[train['playtime_forever'] == 0]['total_positive_reviews'].mean())\n",
    "print(train[train['playtime_forever'] == 0]['total_negative_reviews'].mean())"
   ]
  },
  {
   "cell_type": "code",
   "execution_count": 9,
   "metadata": {},
   "outputs": [],
   "source": [
    "# 根据评论反映游戏热度\n",
    "def is_hot(x):\n",
    "    if x >= 28000:\n",
    "        return 2\n",
    "    elif x >= 10000:\n",
    "        return 1\n",
    "    else:\n",
    "        return 0\n",
    "\n",
    "train['comment_total'] = train['total_positive_reviews'] + train['total_negative_reviews']\n",
    "train['hot_level'] = train['comment_total'].apply(is_hot)"
   ]
  },
  {
   "cell_type": "code",
   "execution_count": 10,
   "metadata": {
    "scrolled": false
   },
   "outputs": [
    {
     "name": "stdout",
     "output_type": "stream",
     "text": [
      "28.552991452991453 9.153846153846153\n"
     ]
    }
   ],
   "source": [
    "# 日期提取\n",
    "import datetime\n",
    "import time\n",
    "date_map = {'Jul':'7', 'Jan':'1', 'Feb':'2', 'Mar':'3', 'Apr':'4', 'May':'5', \\\n",
    "            'Jun':'6', 'Aug':'8', 'Sep':'9', 'Oct':'10', 'Nov':'11', 'Dec':'12'}\n",
    "\n",
    "def clean_buy_date(x):\n",
    "    if x != x:\n",
    "        return -1\n",
    "    arr = x.split(' ')\n",
    "    if len(arr) != 3:\n",
    "        return -1\n",
    "    return arr[2] + '-' + date_map[arr[0]]\n",
    "    \n",
    "def clean_realease_date(x):\n",
    "    if x != x:\n",
    "        return -1\n",
    "    try:\n",
    "        arr = x.split(',')\n",
    "        if len(arr) != 2:\n",
    "            return -1\n",
    "        mon = -1\n",
    "        for month in date_map:\n",
    "            if month in arr[0]:\n",
    "                mon = date_map[month]\n",
    "        year = arr[1]\n",
    "        return year + '-' + str(mon)\n",
    "    except AttributeError:\n",
    "        return -1\n",
    "\n",
    "train['purchase_date_clean'] = train['purchase_date'].apply(clean_buy_date)\n",
    "train['release_date_clean'] = train['release_date'].apply(clean_realease_date)\n",
    "train['purchase_year'] = train['purchase_date_clean'].apply(lambda x: -1 if x == -1 else int(x.split('-')[0]))\n",
    "train['purchase_month'] = train['purchase_date_clean'].apply(lambda x: -1 if x == -1 else int(x.split('-')[1]))\n",
    "train['release_year'] = train['release_date_clean'].apply(lambda x: -1 if x == -1 else int(x.split('-')[0]))\n",
    "train['release_month'] = train['release_date_clean'].apply(lambda x: -1 if x == -1 else int(x.split('-')[1]))\n",
    "\n",
    "total_play_time_map = {}\n",
    "total_play_cnt_map = {}\n",
    "\n",
    "sum_time = 0\n",
    "sum_cnt = 0\n",
    "for buy_time in train['purchase_date_clean'].unique():\n",
    "    total_play_time_map[buy_time] = train[train['purchase_date_clean'] == buy_time]['playtime_forever'].sum()\n",
    "    total_play_cnt_map[buy_time] = len(train[train['purchase_date_clean'] == buy_time])\n",
    "    sum_time += train[train['purchase_date_clean'] == buy_time]['playtime_forever'].sum()\n",
    "    sum_cnt += len(train[train['purchase_date_clean'] == buy_time])\n",
    "\n",
    "time_mean = sum_time/len(train['purchase_date_clean'].unique())\n",
    "cnt_mean = sum_cnt/len(train['purchase_date_clean'].unique())\n",
    "print(time_mean, cnt_mean)\n",
    "def month_total_play_time(x):\n",
    "    if x in total_play_time_map:\n",
    "        return total_play_time_map[x]\n",
    "    else:\n",
    "        return time_mean\n",
    "    \n",
    "def month_total_play_time(x):\n",
    "    if x in total_play_time_map:\n",
    "        return total_play_cnt_map[x]\n",
    "    else:\n",
    "        return cnt_mean\n",
    "\n",
    "train['month_total_play_time'] = train['purchase_date_clean'].apply(month_total_play_time)\n",
    "train['month_total_play_cnt'] = train['purchase_date_clean'].apply(month_total_play_time)\n",
    "# print(train['month_total_play_cnt'])\n",
    "# # 游戏总时长统计\n",
    "# for year in train['purchase_year'].unique():\n",
    "#     tmp =  train[train['purchase_year'] == year]\n",
    "#     for month in train['purchase_month'].unique():\n",
    "#         print(year, '-', month, ': ', tmp[tmp['purchase_month'] == month]['playtime_forever'].value_counts())\n",
    "#         print(year, '-', month, ': ', tmp[tmp['purchase_month'] == month]['playtime_forever'].mean())\n",
    "#         print(year, '-', month, ': ', tmp[tmp['purchase_month'] == month]['playtime_forever'].sum())\n",
    "#         print(' ')"
   ]
  },
  {
   "cell_type": "code",
   "execution_count": 172,
   "metadata": {},
   "outputs": [
    {
     "name": "stdout",
     "output_type": "stream",
     "text": [
      "HR Model save...\n",
      "Model has been saved.\n"
     ]
    }
   ],
   "source": [
    "\n",
    "from sklearn.ensemble import RandomForestRegressor\n",
    "from sklearn.externals import joblib\n",
    "\n",
    "# final_train = pd.concat([\\\n",
    "#                          train[one_hot_col], \\\n",
    "#                          train[['total_positive_reviews', 'total_negative_reviews', 'reviews_level', 'is_free',\\\n",
    "#                                 'comment_total', 'hot_level', 'price', 'playtime_forever', 'adult_con']]\\\n",
    "#                         ], \\\n",
    "#                          axis=1, join='inner')\n",
    "final_train = train[['total_positive_reviews', 'total_negative_reviews', 'reviews_level', 'is_free',\\\n",
    "                                'comment_total', 'hot_level', 'price', 'playtime_forever', 'adult_con',\\\n",
    "                    'month_total_play_time', 'month_total_play_cnt', 'purchase_year', 'purchase_month', \\\n",
    "                    'release_year', 'release_month']]\n",
    "\n",
    "# final_train.to_csv('final_train.csv', index=False)\n",
    "train_x = final_train.drop(['playtime_forever'], axis=1).as_matrix()\n",
    "train_y = final_train[['playtime_forever']].as_matrix()\n",
    "\n",
    "rfr=RandomForestRegressor()\n",
    " \n",
    "rfr.fit(train_x,train_y)   #训练数据\n",
    "\n",
    "\n",
    "model_save_path = \"C:/Users/XHDMW/Desktop/ML/5001 Kaggle/msbd5001-fall2019/model_save/train_model.m\"\n",
    "print(\"HR Model save...\")\n",
    "\n",
    "joblib.dump(rfr, model_save_path)\n",
    "print(\"Model has been saved.\")"
   ]
  },
  {
   "cell_type": "code",
   "execution_count": 173,
   "metadata": {},
   "outputs": [
    {
     "name": "stdout",
     "output_type": "stream",
     "text": [
      "28.552991452991453 9.153846153846153\n"
     ]
    }
   ],
   "source": [
    "test = pd.read_csv(r'test.csv')\n",
    "test['total_positive_reviews'] = test['total_positive_reviews'].apply(clean_pos)\n",
    "test['total_negative_reviews'] = test['total_negative_reviews'].apply(clean_neg)\n",
    "test['reviews_level'] = test['total_positive_reviews']/test['total_negative_reviews']\n",
    "\n",
    "for item in genres_list:\n",
    "    test[item] = test['genres'].apply(lambda x: 1 if item in x else 0)\n",
    "    \n",
    "for item in categories_list:\n",
    "    test[item] = test['categories'].apply(lambda x: 1 if item in x else 0)\n",
    "    \n",
    "for item in tags_list:\n",
    "    if item not in test:\n",
    "        test[item] = test['tags'].apply(lambda x: 1 if item in x else 0)\n",
    "    else:\n",
    "        for index, row in test.iterrows():\n",
    "            if row[item] != 1:\n",
    "                if item in row['tags']:\n",
    "                    row[item] = 1\n",
    "                else:\n",
    "                    row[item] = 0\n",
    "            else:\n",
    "                row[item] = 1\n",
    "# 是否有色情，暴力，血腥等成人元素\n",
    "def is_adult(x):\n",
    "    if 'Nudity' in x \\\n",
    "    or 'Sexual Content' in x \\\n",
    "    or 'Gore' in x\\\n",
    "    or 'Violent' in x:\n",
    "        return 1\n",
    "    else:\n",
    "        return 0\n",
    "    \n",
    "test['adult_con'] = test['genres'].apply(is_adult)\n",
    "test['adult_con'].value_counts()\n",
    "                \n",
    "# 根据评论反映游戏热度\n",
    "def is_hot(x):\n",
    "    if x >= 28000:\n",
    "        return 2\n",
    "    elif x >= 10000:\n",
    "        return 1\n",
    "    else:\n",
    "        return 0\n",
    "\n",
    "test['comment_total'] = test['total_positive_reviews'] + test['total_negative_reviews']\n",
    "test['hot_level'] = test['comment_total'].apply(is_hot)\n",
    "\n",
    "# final_test = pd.concat([\\\n",
    "#                          test[one_hot_col], \\\n",
    "#                          test[['total_positive_reviews', 'total_negative_reviews', 'reviews_level', 'is_free','price', \\\n",
    "#                               'comment_total', 'hot_level', 'adult_con']]\\\n",
    "#                         ], \\\n",
    "#                          axis=1, join='inner')\n",
    "\n",
    "test['purchase_date_clean'] = test['purchase_date'].apply(clean_buy_date)\n",
    "test['release_date_clean'] = test['release_date'].apply(clean_realease_date)\n",
    "test['purchase_year'] = test['purchase_date_clean'].apply(lambda x: -1 if x == -1 else int(x.split('-')[0]))\n",
    "test['purchase_month'] = test['purchase_date_clean'].apply(lambda x: -1 if x == -1 else int(x.split('-')[1]))\n",
    "test['release_year'] = test['release_date_clean'].apply(lambda x: -1 if x == -1 else int(x.split('-')[0]))\n",
    "test['release_month'] = test['release_date_clean'].apply(lambda x: -1 if x == -1 else int(x.split('-')[1]))\n",
    "\n",
    "\n",
    "print(time_mean, cnt_mean)\n",
    "\n",
    "def month_total_play_time(x):\n",
    "    if x in total_play_time_map:\n",
    "        return total_play_time_map[x]\n",
    "    else:\n",
    "        return time_mean\n",
    "    \n",
    "def month_total_play_time(x):\n",
    "    if x in total_play_time_map:\n",
    "        return total_play_cnt_map[x]\n",
    "    else:\n",
    "        return cnt_mean\n",
    "\n",
    "test['month_total_play_time'] = test['purchase_date_clean'].apply(month_total_play_time)\n",
    "test['month_total_play_cnt'] = test['purchase_date_clean'].apply(month_total_play_time)\n",
    "\n",
    "\n",
    "final_test = test[['total_positive_reviews', 'total_negative_reviews', 'reviews_level', 'is_free',\\\n",
    "                    'comment_total', 'hot_level', 'price', 'adult_con', \\\n",
    "                    'month_total_play_time', 'month_total_play_cnt', 'purchase_year', 'purchase_month', \\\n",
    "                    'release_year', 'release_month']]\n",
    "test_x = final_test.as_matrix()\n",
    "test['playtime_forever'] = rfr.predict(test_x)\n",
    "\n",
    "samplesubmission = pd.read_csv(r'samplesubmission.csv')\n",
    "samplesubmission['playtime_forever'] = test['playtime_forever']\n",
    "samplesubmission.to_csv('samplesubmission.csv', index=False)"
   ]
  },
  {
   "cell_type": "code",
   "execution_count": null,
   "metadata": {},
   "outputs": [],
   "source": []
  },
  {
   "cell_type": "code",
   "execution_count": null,
   "metadata": {},
   "outputs": [],
   "source": []
  },
  {
   "cell_type": "code",
   "execution_count": null,
   "metadata": {},
   "outputs": [],
   "source": []
  }
 ],
 "metadata": {
  "kernelspec": {
   "display_name": "Python 3",
   "language": "python",
   "name": "python3"
  },
  "language_info": {
   "codemirror_mode": {
    "name": "ipython",
    "version": 3
   },
   "file_extension": ".py",
   "mimetype": "text/x-python",
   "name": "python",
   "nbconvert_exporter": "python",
   "pygments_lexer": "ipython3",
   "version": "3.7.3"
  }
 },
 "nbformat": 4,
 "nbformat_minor": 2
}
