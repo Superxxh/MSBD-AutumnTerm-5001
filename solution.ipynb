%matplotlib inline
import math
import time
import datetime
import numpy as np
import pandas as pd
import warnings as wn
import seaborn as sns
import matplotlib.pyplot as plt
from sklearn import preprocessing
from sklearn.externals import joblib
from sklearn.ensemble import RandomForestRegressor
from sklearn.ensemble import RandomForestRegressor
wn.filterwarnings('ignore')

# read data as train
train = pd.read_csv(r'train.csv')

# functions to be used as bonus of different col
def cate_bonus(x):
    bons = 0
    for val in map_c:
        if val in x:
            bons += map_c[val]
    return bons

# wether have bonus in cate
def get_bonus_cate(x):
    bou = 0
    if 'Single-player' in x:
        bou += 1
    if 'Steam Cloud' in x:
        bou += 1
    if 'Partial Controller Suppor' in x:
        bou += 1
    if 'Co-op' in x:
        bou += 1
    if 'Stats' in x:
        bou += 1
    else:
        bou = 0
    return bou

def gen_bonus(x):
    bons = 0
    for val in bons_map:
        if val in x:
            bons += bons_map[val]
    return bons

# wether have bonus in gen
def get_bonus(x):
    bou = 0
    if 'Adventure' in x:
        bou += 1
    if 'Indie' in x:
        bou += 1
    if 'RPG' in x:
        bou += 1
    if 'Strategy' in x:
        bou += 1
    if 'Action' in x:
        bou += 1
    if 'Massively Multiplayer' in x:
        bou += 1
    else:
        bou = 0
    return bou

def tag_bons(x):
    bons = 0
    for val in map_t:
        if val in x:
            bons += map_t[val]
    return bons

# wether have bonus in tag
def tag_bonus(x):
    bou = 0
    if 'Adventure' in x:
        bou += 1
    if 'Indie' in x:
        bou += 1
    if 'RPG' in x:
        bou += 1
    if 'Strategy' in x:
        bou += 1
    if 'Action' in x:
        bou += 1
    if 'Massively Multiplayer' in x:
        bou += 1
    else:
        bou = 0
    return bou

#use the positive/positive+negative to indicates the hot of games
def transfor_pos(x):
    if x != x:
        return 0
    else:
        return x
def transfor_neg(x):
    if x != x or x == 0:
        return 1
    else:
        return x

# wether it is adult game
def is_adult(x):
    if 'Sexual Content' in x:
        return 1
    if 'Nudity' in x:
        return 1
    if 'Gore' in x:
        return 1
    if 'Violent' in x:
        return 1
    else:
        return 0 

# define the hotness of games
def hot(x):
    if x >= 28000:
        return 2
    elif x >= 10000:
        return 1
    else:
        return 0
        
# transfor price to log price
def log_price(x):
    if x == 0:
        return 0
    else:
        return math.log(x)

# transfor date
def nan_transfor_date(x):
    if x != x:
        return -1
    arr = x.split(' ')
    if len(arr) != 3:
        return -1
    res = arr[2] + '-' + date_int[arr[0]] + '-' + arr[1].split(',')[0]
    return res

  

map_t = {}
tags_list = []
for row in train['tags']:
    arr = row.split(',')
    for i in arr:
        if i not in map_t:
            map_t[i] = 1
            tags_list.append(i)
        else:
            map_t[i] += 1

map_t = sorted(map_t.items(), key = lambda x: x[1], reverse = True)

for i in tags_list:
    if i not in train:
        train[i] = train['tags'].apply(lambda x: 1 if i in x else 0)
    else:
        for index, row in train.iterrows():
            if row[i] != 1:
                if i in row['tags']:
                    row[i] = 1
                else:
                    row[i] = 0
            else:
                row[i] = 1
    

map_t = {}
for ge in tags_list:
    tmp_val = round(train[train['tags'].str.contains(ge)]['playtime_forever'].mean())
    if tmp_val >= 17:
        map_t[ge] = tmp_val - 16
    
train['tags_val'] = train['tags'].apply(tag_bons)

map_g = {}
gen_list = []
for row in train['genres']:
    arr = row.split(',')
    for i in arr:
        if i not in map_g:
            map_g[i] = 1
            gen_list.append(i)
        else:
            map_g[i] += 1

map_g = sorted(map_g.items(), key = lambda x: x[1], reverse = True)

for i in gen_list:
    train[i] = train['genres'].apply(lambda x: 1 if i in x else 0)

# bons is a new feature created by gen_list
bons_map = {}
for ge in gen_list:
    tmp_val = round(train[train['genres'].str.contains(ge)]['playtime_forever'].mean())
    if tmp_val >= 10:
        bons_map[ge] = 3
    elif tmp_val >= 5:
        bons_map[ge] = 2
    elif tmp_val >= 4:
        bons_map[ge] = 1
    
train['genres_val'] = train['genres'].apply(gen_bonus)

# the same as categories
map_c = {}
categories_list = []
for row in train['categories']:
    arr = row.split(',')
    for i in arr:
        if i not in map_c:
            map_c[i] = 1
            categories_list.append(i)
        else:
            map_c[i] += 1

map_c = sorted(map_c.items(), key = lambda x: x[1], reverse = True)
for i in categories_list:
    train[i] = train['categories'].apply(lambda x: 1 if i in x else 0)
map_c = {}
for ge in categories_list:
    tmp_val = round(train[train['categories'].str.contains(ge)]['playtime_forever'].mean())
    if tmp_val >= 8:
        map_c[ge] = tmp_val - 7
train['categories_val'] = train['categories'].apply(cate_bonus)


train['is_adult'] = train['genres'].apply(is_adult)

train['is_free'] = train['is_free'].apply(lambda x: 1 if x == True else 0)

combine_col = categories_list + tags_list + gen_list

    
train['total_positive_reviews'] = train['total_positive_reviews'].apply(transfor_pos)
train['total_negative_reviews'] = train['total_negative_reviews'].apply(transfor_neg)
train['reviews_level'] = train['total_positive_reviews']/train['total_negative_reviews']+train['total_positive_reviews']
# train['reviews_level'] = train['total_positive_reviews']/train['total_negative_reviews']


train['price'] = train['price'].apply(log_price)

train['com_number'] = train['total_positive_reviews'] + train['total_negative_reviews']
train['hot_level'] = train['com_number'].apply(hot)

# transfor date
date_int = {'Jan':'1', 'Feb':'2', 'Mar':'3', 'Apr':'4', 'May':'5','Jun':'6', 'Jul':'7', 'Aug':'8', 'Sep':'9', 'Oct':'10', 'Nov':'11', 'Dec':'12'}
train['nan_transfor_date'] = train['purchase_date'].apply(nan_transfor_date)


time_map = {}
cnt_map = {}
sum_time = 0
sum_cnt = 0

combine_train = pd.concat([train[combine_col],train[['com_number', 'hot_level', 'price', 'playtime_forever',\
                                'is_adult',\
                                'total_positive_reviews', 'total_negative_reviews', 'reviews_level', 'is_free',\
                                'genres_val', 'categories_val', 'tags_val']]],\
                                axis=1, join='inner')
train_x = combine_train.drop(['playtime_forever'], axis=1).as_matrix()
train_y = combine_train[['playtime_forever']].as_matrix()

rfr=RandomForestRegressor()
rfr.fit(train_x,train_y)   #训练数据

# save the model
model_save_path = "model.m"
print("Time Prediction Model is producted")

joblib.dump(rfr, model_save_path)
print("Time Prediction Model has been saved.")

test = pd.read_csv(r'test.csv')
test['total_positive_reviews'] = test['total_positive_reviews'].apply(transfor_pos)
test['total_negative_reviews'] = test['total_negative_reviews'].apply(transfor_neg)
test['reviews_level'] = test['total_positive_reviews']/test['total_negative_reviews']

for i in gen_list:
    test[i] = test['genres'].apply(lambda x: 1 if i in x else 0) 
for i in categories_list:
    test[i] = test['categories'].apply(lambda x: 1 if i in x else 0)   
for i in tags_list:
    if i not in test:
        test[i] = test['tags'].apply(lambda x: 1 if i in x else 0)
    else:
        for index, row in test.iterrows():
            if row[i] != 1:
                if i in row['tags']:
                    row[i] = 1
                else:
                    row[i] = 0
            else:
                row[i] = 1
              
test['genres_val'] = test['genres'].apply(gen_bonus)
test['categories_val'] = test['categories'].apply(cate_bonus) 
test['tags_val'] = test['tags'].apply(tag_bons)

    
test['is_adult'] = test['genres'].apply(is_adult)
# test['is_adult'].value_counts()
                


test['com_number'] = test['total_positive_reviews'] + test['total_negative_reviews']
test['hot_level'] = test['com_number'].apply(hot)
test['nan_transfor_date'] = test['purchase_date'].apply(nan_transfor_date)



combine_test = pd.concat([test[combine_col],test[['com_number', 'hot_level', 'price', 'is_adult', \
                                'total_positive_reviews', 'total_negative_reviews', 'reviews_level', 'is_free',\
                                'genres_val', 'categories_val', 'tags_val']]],axis=1, join='inner')
test_x = combine_test.as_matrix()
test['playtime_forever'] = rfr.predict(test_x)

samplesubmission = pd.read_csv(r'samplesubmission.csv')
samplesubmission['playtime_forever'] = test['playtime_forever']
samplesubmission.to_csv('samplesubmission.csv', index=False)
print("samplesubmission.csv is pruducted")